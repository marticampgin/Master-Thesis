{
 "cells": [
  {
   "cell_type": "markdown",
   "id": "9222b78b",
   "metadata": {},
   "source": [
    "This notebook utilizes our data cleaning and preparations scripts to obtain clean, unlabeled text and serialize it in a .pkl file "
   ]
  },
  {
   "cell_type": "code",
   "execution_count": 11,
   "id": "9e6d9558-34d6-4f46-ba78-eb63280b0f9c",
   "metadata": {},
   "outputs": [],
   "source": [
    "import pickle\n",
    "import os \n",
    "from ietf_wg_mb_extractor import IETF_WG_MB_Extractor\n",
    "from prepare_data import DataPreparator"
   ]
  },
  {
   "cell_type": "code",
   "execution_count": 3,
   "id": "9534aa85-aee3-4309-bb52-fd0d08d8ce40",
   "metadata": {},
   "outputs": [
    {
     "name": "stdout",
     "output_type": "stream",
     "text": [
      "Successfully scraped active WG names\n",
      "------------------------------------\n",
      "Successfully extracted names of active WGs existing in files\n",
      "------------------------------------------------------------\n",
      "Successfully converted and concatenated all .csv files into one dataframe\n",
      "-------------------------------------------------------------------------\n"
     ]
    }
   ],
   "source": [
    "archive_path = 'email-archives/'\n",
    "extractor = IETF_WG_MB_Extractor(archive_path)\n",
    "extractor.combine_wg_files(ratio=None)\n",
    "active_wg_dataframe = extractor.get_combined_wg_dataframes()"
   ]
  },
  {
   "cell_type": "code",
   "execution_count": 4,
   "id": "51d03522",
   "metadata": {},
   "outputs": [
    {
     "name": "stdout",
     "output_type": "stream",
     "text": [
      "Initial dataframe shape: (499801, 8)\n",
      "-----------------------------------------\n",
      "Dataframe shape after cleaning rows: (46067, 9)\n",
      "\n",
      "------PROCESSING------\n",
      "\n"
     ]
    },
    {
     "name": "stderr",
     "output_type": "stream",
     "text": [
      "100%|██████████| 46067/46067 [01:03<00:00, 725.56it/s] \n"
     ]
    },
    {
     "name": "stdout",
     "output_type": "stream",
     "text": [
      "Prepocessing time: 63.50 s.\n",
      "\n",
      "Number of mails removed: 12843\n",
      "---------------------------------------\n",
      "Encrypted messages: 3306\n",
      "Ill from-formated messages: 208\n",
      "Announc. messages: 4668\n",
      "Unknown endcoding messages: 62\n",
      "Empty messages post-processing: 4050\n",
      "Diff. language: 462\n",
      "Diverse other noise: 87\n"
     ]
    }
   ],
   "source": [
    "extractor = IETF_WG_MB_Extractor(archive_path)\n",
    "data_preparator = DataPreparator(extractor)\n",
    "\n",
    "clean_wg_dataframe = data_preparator.emails_df_cleaning(active_wg_dataframe)\n",
    "processed_bodies = data_preparator.preprocess_bodies()\n",
    "text_coll_combined = data_preparator.wg_combined_bodies_to_dict(processed_bodies)\n",
    "text_coll_default = data_preparator.wg_bodies_to_dict(processed_bodies)"
   ]
  },
  {
   "cell_type": "code",
   "execution_count": 12,
   "id": "a5863ed1-341a-4486-a06b-10dd3fe997e4",
   "metadata": {},
   "outputs": [
    {
     "name": "stdout",
     "output_type": "stream",
     "text": [
      "Requested num. of samples: 30615\n",
      "Actual num. of samples (due to post duplicate-removal): 30059\n"
     ]
    }
   ],
   "source": [
    "train_bodies = data_preparator.prepare_data_for_model(text_coll_default, seed=77, percent_of_data=0.99)\n",
    "\n",
    "# Putting texts in dict, indexing and removing additional noise \n",
    "idx_texts = {i: body for i, body in  enumerate(train_bodies) if 'count bytes who' not in body}\n",
    "# Serializing the unlabeled data\n",
    "pickle.dump(idx_texts, open(os.path.join(\".\", \"unlabeled_texts_dict.pkl\"), \"wb\"))"
   ]
  }
 ],
 "metadata": {
  "kernelspec": {
   "display_name": "Python 3 (ipykernel)",
   "language": "python",
   "name": "python3"
  },
  "language_info": {
   "codemirror_mode": {
    "name": "ipython",
    "version": 3
   },
   "file_extension": ".py",
   "mimetype": "text/x-python",
   "name": "python",
   "nbconvert_exporter": "python",
   "pygments_lexer": "ipython3",
   "version": "3.11.5"
  }
 },
 "nbformat": 4,
 "nbformat_minor": 5
}
