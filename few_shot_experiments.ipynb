{
 "cells": [
  {
   "cell_type": "code",
   "execution_count": 5,
   "metadata": {},
   "outputs": [],
   "source": [
    "from huggingface_hub import notebook_login\n",
    "%load_ext autoreload\n",
    "%autoreload 2\n",
    "from few_shot_testing import main"
   ]
  },
  {
   "cell_type": "code",
   "execution_count": 4,
   "metadata": {},
   "outputs": [
    {
     "data": {
      "application/vnd.jupyter.widget-view+json": {
       "model_id": "7564c5b8b74647e8a376e0c6aa8de68e",
       "version_major": 2,
       "version_minor": 0
      },
      "text/plain": [
       "VBox(children=(HTML(value='<center> <img\\nsrc=https://huggingface.co/front/assets/huggingface_logo-noborder.sv…"
      ]
     },
     "metadata": {},
     "output_type": "display_data"
    }
   ],
   "source": [
    "notebook_login()"
   ]
  },
  {
   "cell_type": "code",
   "execution_count": 23,
   "metadata": {},
   "outputs": [
    {
     "name": "stderr",
     "output_type": "stream",
     "text": [
      "Some weights of the model checkpoint at cardiffnlp/twitter-roberta-base-sentiment-latest were not used when initializing RobertaForSequenceClassification: ['roberta.pooler.dense.bias', 'roberta.pooler.dense.weight']\n",
      "- This IS expected if you are initializing RobertaForSequenceClassification from the checkpoint of a model trained on another task or with another architecture (e.g. initializing a BertForSequenceClassification model from a BertForPreTraining model).\n",
      "- This IS NOT expected if you are initializing RobertaForSequenceClassification from the checkpoint of a model that you expect to be exactly identical (initializing a BertForSequenceClassification model from a BertForSequenceClassification model).\n",
      "You're using a RobertaTokenizerFast tokenizer. Please note that with a fast tokenizer, using the `__call__` method is faster than using a method to encode the text followed by a call to the `pad` method to get a padded encoding.\n"
     ]
    },
    {
     "name": "stdout",
     "output_type": "stream",
     "text": [
      "{'loss': 0.4829, 'learning_rate': 1.5000000000000002e-05, 'epoch': 1.0}\n",
      "{'eval_loss': 0.3645442724227905, 'eval_f1': 0.8428571428571429, 'eval_runtime': 0.311, 'eval_samples_per_second': 225.08, 'eval_steps_per_second': 28.939, 'epoch': 1.0}\n",
      "{'loss': 0.136, 'learning_rate': 1e-05, 'epoch': 2.0}\n",
      "{'eval_loss': 0.4500851631164551, 'eval_f1': 0.8857142857142857, 'eval_runtime': 0.31, 'eval_samples_per_second': 225.806, 'eval_steps_per_second': 29.032, 'epoch': 2.0}\n",
      "{'loss': 0.1554, 'learning_rate': 5e-06, 'epoch': 3.0}\n",
      "{'eval_loss': 0.47713175415992737, 'eval_f1': 0.8571428571428571, 'eval_runtime': 0.314, 'eval_samples_per_second': 222.93, 'eval_steps_per_second': 28.662, 'epoch': 3.0}\n",
      "{'loss': 0.0105, 'learning_rate': 0.0, 'epoch': 4.0}\n",
      "{'eval_loss': 0.4620301425457001, 'eval_f1': 0.9, 'eval_runtime': 0.3047, 'eval_samples_per_second': 229.76, 'eval_steps_per_second': 29.541, 'epoch': 4.0}\n",
      "{'train_runtime': 34.3961, 'train_samples_per_second': 23.607, 'train_steps_per_second': 3.024, 'train_loss': 0.19619494103468382, 'epoch': 4.0}\n",
      "Results for RoBERTa-twitter:\n",
      "\n",
      "              precision    recall  f1-score   support\n",
      "\n",
      "          -1     0.7917    0.9048    0.8444        21\n",
      "           0     0.8571    0.6923    0.7660        26\n",
      "           1     0.8800    0.9565    0.9167        23\n",
      "\n",
      "    accuracy                         0.8429        70\n",
      "   macro avg     0.8429    0.8512    0.8424        70\n",
      "weighted avg     0.8450    0.8429    0.8390        70\n",
      "\n"
     ]
    }
   ],
   "source": [
    "main()"
   ]
  }
 ],
 "metadata": {
  "kernelspec": {
   "display_name": "master_thesis",
   "language": "python",
   "name": "python3"
  },
  "language_info": {
   "codemirror_mode": {
    "name": "ipython",
    "version": 3
   },
   "file_extension": ".py",
   "mimetype": "text/x-python",
   "name": "python",
   "nbconvert_exporter": "python",
   "pygments_lexer": "ipython3",
   "version": "3.11.5"
  }
 },
 "nbformat": 4,
 "nbformat_minor": 2
}
