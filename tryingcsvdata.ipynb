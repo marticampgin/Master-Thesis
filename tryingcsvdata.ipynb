{
 "cells": [
  {
   "cell_type": "code",
   "execution_count": 1,
   "id": "9e6d9558-34d6-4f46-ba78-eb63280b0f9c",
   "metadata": {},
   "outputs": [],
   "source": [
    "import matplotlib.pyplot as plt\n",
    "import seaborn as sns\n",
    "\n",
    "from ietf_wg_mb_extractor import IETF_WG_MB_Extractor\n",
    "from argparse import ArgumentParser\n",
    "\n",
    "\n",
    "%load_ext autoreload\n",
    "%autoreload 2\n",
    "from explore_data import DataExplorer\n",
    "from prepare_data import DataPreparator"
   ]
  },
  {
   "cell_type": "code",
   "execution_count": 2,
   "id": "1da99bb8-f480-4343-bfec-0c0a8f503a83",
   "metadata": {},
   "outputs": [],
   "source": [
    "def set_parameters(grid_color, axes_edgecolor, axes_facecolor, figsize):\n",
    "    sns.set(rc={\"grid.color\": grid_color, \n",
    "                \"axes.edgecolor\": axes_edgecolor, \n",
    "                \"axes.facecolor\": axes_facecolor,\n",
    "                'figure.figsize': figsize})"
   ]
  },
  {
   "cell_type": "code",
   "execution_count": 3,
   "id": "2e8e6e95-6669-494f-926a-b0f564d3ac33",
   "metadata": {},
   "outputs": [],
   "source": [
    "set_parameters(grid_color=\"#99e2b4\", axes_edgecolor=\"#99e2b4\", axes_facecolor=\"#e6ffed\", figsize=(9, 5))"
   ]
  },
  {
   "cell_type": "code",
   "execution_count": 4,
   "id": "244ab818-69d2-413d-93f5-e71ed9701888",
   "metadata": {},
   "outputs": [],
   "source": [
    "archive_path = 'email-archives/'"
   ]
  },
  {
   "cell_type": "code",
   "execution_count": 5,
   "id": "9534aa85-aee3-4309-bb52-fd0d08d8ce40",
   "metadata": {},
   "outputs": [
    {
     "name": "stdout",
     "output_type": "stream",
     "text": [
      "Successfully scraped active WG names\n",
      "------------------------------------\n",
      "Successfully extracted names of active WGs existing in files\n",
      "------------------------------------------------------------\n",
      "Successfully converted and concatenated all .csv files into one dataframe\n",
      "-------------------------------------------------------------------------\n"
     ]
    }
   ],
   "source": [
    "extractor = IETF_WG_MB_Extractor(archive_path)\n",
    "extractor.combine_wg_files(ratio=None)\n",
    "active_wg_dataframe = extractor.get_combined_wg_dataframes()"
   ]
  },
  {
   "cell_type": "code",
   "execution_count": 6,
   "id": "51d03522",
   "metadata": {},
   "outputs": [
    {
     "name": "stdout",
     "output_type": "stream",
     "text": [
      "Initial dataframe shape: (532860, 8)\n",
      "-----------------------------------------\n",
      "Dataframe shape after cleaning rows: (46956, 9)\n",
      "\n",
      "------PROCESSING------\n",
      "\n"
     ]
    },
    {
     "name": "stderr",
     "output_type": "stream",
     "text": [
      "100%|██████████| 46956/46956 [01:04<00:00, 723.71it/s] \n"
     ]
    },
    {
     "name": "stdout",
     "output_type": "stream",
     "text": [
      "Prepocessing time: 64.88 s.\n",
      "\n",
      "Number of mails removed: 13108\n",
      "---------------------------------------\n",
      "Encrypted messages: 3392\n",
      "Ill from-formated messages: 208\n",
      "Announc. messages: 4813\n",
      "Unknown endcoding messages: 62\n",
      "Empty messages post-processing: 4083\n",
      "Diff. language: 463\n",
      "Diverse other noise: 87\n"
     ]
    }
   ],
   "source": [
    "extractor = IETF_WG_MB_Extractor(archive_path)\n",
    "data_preparator = DataPreparator(extractor)\n",
    "clean_wg_dataframe = data_preparator.emails_df_cleaning(active_wg_dataframe)\n",
    "processed_bodies = data_preparator.preprocess_bodies()\n",
    "text_coll_combined = data_preparator.wg_combined_bodies_to_dict(processed_bodies)\n",
    "text_coll_default = data_preparator.wg_bodies_to_dict(processed_bodies)\n",
    "\n",
    "data_explorer = DataExplorer(colors = ['#eee82c', '#91cb3e', '#17A72D', '#4c934c','#368245'])"
   ]
  },
  {
   "cell_type": "code",
   "execution_count": 38,
   "id": "a851f93c-4ec2-4cca-b2f5-17419a7f2e86",
   "metadata": {},
   "outputs": [
    {
     "data": {
      "text/plain": [
       "33848"
      ]
     },
     "execution_count": 38,
     "metadata": {},
     "output_type": "execute_result"
    }
   ],
   "source": [
    "len(processed_bodies)"
   ]
  },
  {
   "cell_type": "code",
   "execution_count": 44,
   "id": "65cbba7b-e909-4e35-964b-8ce9ba5ad48e",
   "metadata": {},
   "outputs": [],
   "source": [
    "test_wg = 'netmod'"
   ]
  },
  {
   "cell_type": "code",
   "execution_count": null,
   "id": "0530ee27-c03f-4391-9964-c56245990dd4",
   "metadata": {},
   "outputs": [],
   "source": [
    "data_explorer.wg_wordcloud(text_coll_combined ,test_wg, max_words=50)"
   ]
  },
  {
   "cell_type": "code",
   "execution_count": null,
   "id": "b38bfaae-4e37-4df1-8bd0-0d401d847fe9",
   "metadata": {},
   "outputs": [],
   "source": [
    "data_explorer.messages_per_wg(text_coll_default)"
   ]
  },
  {
   "cell_type": "code",
   "execution_count": 10,
   "id": "368f82d5",
   "metadata": {},
   "outputs": [],
   "source": [
    "# FIGURE OUT HOW TO SORT PLOTS IN DESCENDING ORDER FOR BETTER VISUALIZATION"
   ]
  },
  {
   "cell_type": "code",
   "execution_count": null,
   "id": "a9863a7a-4158-4673-8145-6d3a887bfaba",
   "metadata": {},
   "outputs": [],
   "source": [
    "data_explorer.wg_body_len_dist(text_coll_default, test_wg, bins=110)"
   ]
  },
  {
   "cell_type": "code",
   "execution_count": 8,
   "id": "0b425382-1ced-4335-99f8-3a0da352cd1e",
   "metadata": {},
   "outputs": [
    {
     "data": {
      "image/png": "[encoded data removed]",
      "text/plain": [
       "<Figure size 900x500 with 1 Axes>"
      ]
     },
     "metadata": {},
     "output_type": "display_data"
    }
   ],
   "source": [
    "data_explorer.wg_body_len_dist(text_coll_default, bins=700, whole=True, limit=1100)"
   ]
  },
  {
   "cell_type": "code",
   "execution_count": null,
   "id": "4ad1fc89-79a4-4a7e-9748-9427ca35ca0f",
   "metadata": {},
   "outputs": [],
   "source": [
    "data_explorer.ngram_vectorizer(text_coll_combined, \n",
    "                               vectorizer_type='count', \n",
    "                               wgs=list(text_coll_combined.keys()), \n",
    "                               ngram_range=(1,1), \n",
    "                               min_df=1)"
   ]
  },
  {
   "cell_type": "code",
   "execution_count": null,
   "id": "8386269c-9983-4647-9322-4d3cd1ec7ab1",
   "metadata": {},
   "outputs": [],
   "source": [
    "# This terms could potentially be used for key-word based search, which can be potentially described (future work or something like that)\n",
    "data_explorer.ngram_vectorizer(text_coll_combined, \n",
    "                               vectorizer_type='tf_idf', \n",
    "                               wgs=list(text_coll_combined.keys())[:5], \n",
    "                               ngram_range=(2,2), \n",
    "                               min_df=1)"
   ]
  },
  {
   "cell_type": "code",
   "execution_count": null,
   "id": "054afedd-01bf-42a4-9b21-141777e7a0c9",
   "metadata": {},
   "outputs": [],
   "source": [
    "# Pos-negative scales: 4 down to -4\n",
    "data_explorer.sent_lex_vectorizer(text_coll_combined, wgs=list(text_coll_combined.keys()), pos_thres=3, neg_thresh=-3)"
   ]
  },
  {
   "cell_type": "code",
   "execution_count": null,
   "id": "90fd96e3-cf27-4388-b39a-644f9cdcb871",
   "metadata": {},
   "outputs": [],
   "source": [
    "data_explorer.keyword_concordance(text_coll_default, \n",
    "                                  list(text_coll_default.keys()),\n",
    "                                  keywords=['bad'],\n",
    "                                  left_context=10,\n",
    "                                  right_context=10,\n",
    "                                  max_num_samples=20)"
   ]
  },
  {
   "cell_type": "code",
   "execution_count": 39,
   "id": "a5863ed1-341a-4486-a06b-10dd3fe997e4",
   "metadata": {},
   "outputs": [
    {
     "name": "stdout",
     "output_type": "stream",
     "text": [
      "Requested num. of samples: 31382\n",
      "Actual num. of samples (due to post duplicate-removal): 30819\n"
     ]
    }
   ],
   "source": [
    "train_bodies = data_preparator.prepare_data_for_model(text_coll_default, seed=77, percent_of_data=0.99)"
   ]
  },
  {
   "cell_type": "code",
   "execution_count": 40,
   "metadata": {},
   "outputs": [],
   "source": [
    "# Noise that could not have been removed \n",
    "train_bodies = [body for body in train_bodies if 'count bytes who' not in body]"
   ]
  },
  {
   "cell_type": "code",
   "execution_count": null,
   "metadata": {},
   "outputs": [],
   "source": [
    "train_bodies"
   ]
  },
  {
   "cell_type": "code",
   "execution_count": null,
   "id": "653411cf",
   "metadata": {},
   "outputs": [],
   "source": [
    "for i, body in enumerate(train_bodies):\n",
    "    print(i)\n",
    "    print(body)\n",
    "    print(\"-----------------------------\", end='\\n\\n')"
   ]
  }
 ],
 "metadata": {
  "kernelspec": {
   "display_name": "Python 3 (ipykernel)",
   "language": "python",
   "name": "python3"
  },
  "language_info": {
   "codemirror_mode": {
    "name": "ipython",
    "version": 3
   },
   "file_extension": ".py",
   "mimetype": "text/x-python",
   "name": "python",
   "nbconvert_exporter": "python",
   "pygments_lexer": "ipython3",
   "version": "3.11.5"
  }
 },
 "nbformat": 4,
 "nbformat_minor": 5
}
