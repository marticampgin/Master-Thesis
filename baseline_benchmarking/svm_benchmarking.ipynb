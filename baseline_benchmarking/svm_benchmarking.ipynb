{
 "cells": [
  {
   "cell_type": "code",
   "execution_count": 1,
   "metadata": {},
   "outputs": [],
   "source": [
    "import numpy as np\n",
    "import pandas as pd\n",
    "import gensim\n",
    "import pandas as pd\n",
    "import os \n",
    "\n",
    "from sklearn.svm import SVC\n",
    "from sklearn.decomposition import PCA\n",
    "from sklearn.metrics import classification_report\n",
    "from gensim.models import KeyedVectors\n",
    "from typing import List"
   ]
  },
  {
   "cell_type": "code",
   "execution_count": 2,
   "metadata": {},
   "outputs": [],
   "source": [
    "# Loading data\n",
    "data_path = \"./data\"\n",
    "\n",
    "train_df = pd.read_csv(os.path.join(data_path, \"train_data.csv\"))\n",
    "test_df = pd.read_csv(os.path.join(data_path, \"test_data.csv\"))\n",
    "\n",
    "train_texts, train_labels = train_df.text.tolist(), train_df.label.tolist()\n",
    "test_texts, test_labels = test_df.text.tolist(), test_df.label.tolist()\n",
    "\n",
    "# Simple whitespace split\n",
    "tok_train_texts = [[w for w in txt.split() if w != \"\"] for txt in train_texts]\n",
    "tok_test_texts = [[w for w in txt.split() if w != \"\"] for txt in test_texts]"
   ]
  },
  {
   "cell_type": "code",
   "execution_count": 3,
   "metadata": {},
   "outputs": [
    {
     "name": "stdout",
     "output_type": "stream",
     "text": [
      "Created word2vec model...\n"
     ]
    }
   ],
   "source": [
    "# Experimentally-determined hyperparameters for Word2Vec\n",
    "hyperparameters = {\n",
    "    \"sentences\": tok_train_texts,\n",
    "    \"vector_size\": 150,\n",
    "    \"window\": 5, \n",
    "    \"min_count\": 5, \n",
    "    \"sg\": 0, \n",
    "    \"epochs\": 2, \n",
    "    \"negative\": 7, \n",
    "    \"seed\": 1\n",
    "}\n",
    "\n",
    "# Creating word2vec model\n",
    "model = gensim.models.Word2Vec(**hyperparameters)                         \n",
    "\n",
    "print(\"Created word2vec model...\")"
   ]
  },
  {
   "cell_type": "code",
   "execution_count": 4,
   "metadata": {},
   "outputs": [],
   "source": [
    "# Courtesy for the code to https://www.kaggle.com/code/mehmetlaudatekman/tutorial-word-embeddings-with-svm\n",
    "class Sequencer():\n",
    "    def __init__(self,\n",
    "                 all_words: List[str],\n",
    "                 max_words: int,\n",
    "                 seq_len: int,\n",
    "                 vector_size: int,\n",
    "                 embedding_matrix: KeyedVectors) -> None:\n",
    "        \n",
    "        self.seq_len = seq_len\n",
    "        self.embed_matrix = embedding_matrix\n",
    "\n",
    "        temp_vocab = list(set(all_words))\n",
    "        self.vocab = []\n",
    "\n",
    "        self.word_cnts = {}\n",
    "        self.vector_size = vector_size\n",
    "\n",
    "        for word in temp_vocab:\n",
    "            count = len([0 for w in all_words if w == word])  # counting words, 0 is used a placeholder\n",
    "            self.word_cnts[word] = count\n",
    "            counts = list(self.word_cnts.values())\n",
    "            indexes = list(range(len(counts)))\n",
    "\n",
    "        # Sorting counts and indices by number of in descending order\n",
    "        # Indices are used to find the most used N words\n",
    "        cnt = 0\n",
    "        while cnt + 1 != len(counts):\n",
    "            cnt = 0\n",
    "            for i in range(len(counts)-1):\n",
    "                if counts[i] < counts[i+1]:\n",
    "                    counts[i+1],counts[i] = counts[i],counts[i+1]\n",
    "                    indexes[i],indexes[i+1] = indexes[i+1],indexes[i]\n",
    "                else:\n",
    "                    cnt += 1\n",
    "\n",
    "        for ind in indexes[:max_words]:\n",
    "            self.vocab.append(temp_vocab[ind])\n",
    "\n",
    "    def textToVector(self, text: str):\n",
    "        # Split text into tokens, get the length\n",
    "        # If shorter than max. length - add spaces, if longer - trim from the end\n",
    "\n",
    "        tokens = text.split()   \n",
    "        len_v = len(tokens)-1 if len(tokens) < self.seq_len else self.seq_len-1\n",
    "\n",
    "        vec = []\n",
    "        for tok in tokens[:len_v]:\n",
    "            try:\n",
    "                vec.append(self.embed_matrix[tok])\n",
    "            # In case token did not appear in training data\n",
    "            except Exception as E:\n",
    "                pass\n",
    "\n",
    "        last_pieces = self.seq_len - len(vec)\n",
    "        for _ in range(last_pieces):\n",
    "            vec.append(np.zeros(self.vector_size,))\n",
    "\n",
    "        return np.asarray(vec).flatten()"
   ]
  },
  {
   "cell_type": "code",
   "execution_count": 5,
   "metadata": {},
   "outputs": [],
   "source": [
    "max_words = 1500\n",
    "sequence_length = 200\n",
    "\n",
    "# Init. seqeuncer\n",
    "sequencer = Sequencer(all_words = [token for seq in tok_train_texts for token in seq],\n",
    "                      max_words=max_words,\n",
    "                      seq_len=sequence_length,\n",
    "                      vector_size=hyperparameters[\"vector_size\"],\n",
    "                      embedding_matrix=model.wv)"
   ]
  },
  {
   "cell_type": "code",
   "execution_count": 6,
   "metadata": {},
   "outputs": [
    {
     "name": "stdout",
     "output_type": "stream",
     "text": [
      "Transformed texts to vectors...\n"
     ]
    }
   ],
   "source": [
    "# Utilizing PCA to reduce dimensions while preserving most of the information (~99%)\n",
    "pca_model = PCA(n_components=100,\n",
    "            svd_solver=\"randomized\", \n",
    "            random_state=hyperparameters[\"seed\"])\n",
    "\n",
    "\n",
    "# Transform text -> vectors\n",
    "train_vecs = np.asarray([sequencer.textToVector(\" \".join(seq)) for seq in tok_train_texts])\n",
    "test_vecs = np.asarray([sequencer.textToVector(\" \".join(seq)) for seq in tok_test_texts])\n",
    "print(\"Transformed texts to vectors...\")"
   ]
  },
  {
   "cell_type": "code",
   "execution_count": 7,
   "metadata": {},
   "outputs": [
    {
     "name": "stdout",
     "output_type": "stream",
     "text": [
      "Applied PCA...\n"
     ]
    }
   ],
   "source": [
    "# Fit-transform\n",
    "pca_model.fit(train_vecs)\n",
    "train_comps = pca_model.transform(train_vecs)\n",
    "test_comps = pca_model.transform(test_vecs)\n",
    "print(\"Applied PCA...\")"
   ]
  },
  {
   "cell_type": "code",
   "execution_count": 6,
   "metadata": {},
   "outputs": [
    {
     "name": "stdout",
     "output_type": "stream",
     "text": [
      "Created word2vec model...\n",
      "Transformed texts to vectors...\n",
      "Applied PCA...\n",
      "Done tuning SVM...\n",
      "              precision    recall  f1-score   support\n",
      "\n",
      "          -1       0.88      0.54      0.67        13\n",
      "           0       0.88      0.70      0.78        20\n",
      "           1       0.61      0.89      0.72        19\n",
      "\n",
      "    accuracy                           0.73        52\n",
      "   macro avg       0.79      0.71      0.72        52\n",
      "weighted avg       0.78      0.73      0.73        52\n",
      "\n"
     ]
    }
   ],
   "source": [
    "svm_classifier = SVC(random_state=hyperparameters[\"seed\"])\n",
    "svm_classifier.fit(train_comps, train_labels)\n",
    "print(f\"Done tuning SVM...\")\n",
    "\n",
    "predicted_labels = svm_classifier.predict(test_comps)\n",
    "# Performance on test set\n",
    "print(classification_report(test_labels, predicted_labels))"
   ]
  }
 ],
 "metadata": {
  "kernelspec": {
   "display_name": "master_thesis",
   "language": "python",
   "name": "python3"
  },
  "language_info": {
   "codemirror_mode": {
    "name": "ipython",
    "version": 3
   },
   "file_extension": ".py",
   "mimetype": "text/x-python",
   "name": "python",
   "nbconvert_exporter": "python",
   "pygments_lexer": "ipython3",
   "version": "3.11.5"
  }
 },
 "nbformat": 4,
 "nbformat_minor": 2
}
